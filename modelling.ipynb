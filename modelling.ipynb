{
 "cells": [
  {
   "cell_type": "code",
   "execution_count": 845,
   "metadata": {},
   "outputs": [],
   "source": [
    "# Import dependencies\n",
    "import pandas as pd\n",
    "import sqlite3\n",
    "import numpy as np\n",
    "from sklearn.model_selection import train_test_split\n",
    "from sklearn.linear_model import LinearRegression\n",
    "from sklearn.metrics import mean_squared_error, r2_score\n",
    "from sklearn.preprocessing import StandardScaler\n",
    "import tensorflow as tf\n",
    "from sklearn.tree import DecisionTreeRegressor"
   ]
  },
  {
   "cell_type": "markdown",
   "metadata": {},
   "source": [
    "# Feature Ingineering"
   ]
  },
  {
   "cell_type": "code",
   "execution_count": 846,
   "metadata": {},
   "outputs": [],
   "source": [
    "# Read games, population, and gdp data from sql\n",
    "db_path = '../project-4/games_data.sqlite'\n",
    "conn = sqlite3.connect(db_path)\n",
    "games = pd.read_sql_query(\"SELECT * FROM data\", conn)\n",
    "gdp = pd.read_sql_query(\"SELECT * FROM gdp\", conn)\n",
    "population = pd.read_sql_query(\"SELECT * FROM population\", conn)"
   ]
  },
  {
   "cell_type": "code",
   "execution_count": 847,
   "metadata": {},
   "outputs": [
    {
     "data": {
      "text/html": [
       "<div>\n",
       "<style scoped>\n",
       "    .dataframe tbody tr th:only-of-type {\n",
       "        vertical-align: middle;\n",
       "    }\n",
       "\n",
       "    .dataframe tbody tr th {\n",
       "        vertical-align: top;\n",
       "    }\n",
       "\n",
       "    .dataframe thead th {\n",
       "        text-align: right;\n",
       "    }\n",
       "</style>\n",
       "<table border=\"1\" class=\"dataframe\">\n",
       "  <thead>\n",
       "    <tr style=\"text-align: right;\">\n",
       "      <th></th>\n",
       "      <th>Rank</th>\n",
       "      <th>Name</th>\n",
       "      <th>Platform</th>\n",
       "      <th>Year</th>\n",
       "      <th>Genre</th>\n",
       "      <th>Publisher</th>\n",
       "      <th>NA_Sales</th>\n",
       "      <th>EU_Sales</th>\n",
       "      <th>JP_Sales</th>\n",
       "      <th>Other_Sales</th>\n",
       "      <th>Global_Sales</th>\n",
       "    </tr>\n",
       "  </thead>\n",
       "  <tbody>\n",
       "    <tr>\n",
       "      <th>0</th>\n",
       "      <td>1</td>\n",
       "      <td>Wii Sports</td>\n",
       "      <td>Wii</td>\n",
       "      <td>2006</td>\n",
       "      <td>Sports</td>\n",
       "      <td>Nintendo</td>\n",
       "      <td>41.49</td>\n",
       "      <td>29.02</td>\n",
       "      <td>3.77</td>\n",
       "      <td>8.46</td>\n",
       "      <td>82.74</td>\n",
       "    </tr>\n",
       "    <tr>\n",
       "      <th>1</th>\n",
       "      <td>2</td>\n",
       "      <td>Super Mario Bros.</td>\n",
       "      <td>NES</td>\n",
       "      <td>1985</td>\n",
       "      <td>Platform</td>\n",
       "      <td>Nintendo</td>\n",
       "      <td>29.08</td>\n",
       "      <td>3.58</td>\n",
       "      <td>6.81</td>\n",
       "      <td>0.77</td>\n",
       "      <td>40.24</td>\n",
       "    </tr>\n",
       "    <tr>\n",
       "      <th>2</th>\n",
       "      <td>3</td>\n",
       "      <td>Mario Kart Wii</td>\n",
       "      <td>Wii</td>\n",
       "      <td>2008</td>\n",
       "      <td>Racing</td>\n",
       "      <td>Nintendo</td>\n",
       "      <td>15.85</td>\n",
       "      <td>12.88</td>\n",
       "      <td>3.79</td>\n",
       "      <td>3.31</td>\n",
       "      <td>35.82</td>\n",
       "    </tr>\n",
       "    <tr>\n",
       "      <th>3</th>\n",
       "      <td>4</td>\n",
       "      <td>Wii Sports Resort</td>\n",
       "      <td>Wii</td>\n",
       "      <td>2009</td>\n",
       "      <td>Sports</td>\n",
       "      <td>Nintendo</td>\n",
       "      <td>15.75</td>\n",
       "      <td>11.01</td>\n",
       "      <td>3.28</td>\n",
       "      <td>2.96</td>\n",
       "      <td>33.00</td>\n",
       "    </tr>\n",
       "    <tr>\n",
       "      <th>4</th>\n",
       "      <td>5</td>\n",
       "      <td>Pokemon Red/Pokemon Blue</td>\n",
       "      <td>GB</td>\n",
       "      <td>1996</td>\n",
       "      <td>Role-Playing</td>\n",
       "      <td>Nintendo</td>\n",
       "      <td>11.27</td>\n",
       "      <td>8.89</td>\n",
       "      <td>10.22</td>\n",
       "      <td>1.00</td>\n",
       "      <td>31.37</td>\n",
       "    </tr>\n",
       "  </tbody>\n",
       "</table>\n",
       "</div>"
      ],
      "text/plain": [
       "   Rank                      Name Platform  Year         Genre Publisher  \\\n",
       "0     1                Wii Sports      Wii  2006        Sports  Nintendo   \n",
       "1     2         Super Mario Bros.      NES  1985      Platform  Nintendo   \n",
       "2     3            Mario Kart Wii      Wii  2008        Racing  Nintendo   \n",
       "3     4         Wii Sports Resort      Wii  2009        Sports  Nintendo   \n",
       "4     5  Pokemon Red/Pokemon Blue       GB  1996  Role-Playing  Nintendo   \n",
       "\n",
       "   NA_Sales  EU_Sales  JP_Sales  Other_Sales  Global_Sales  \n",
       "0     41.49     29.02      3.77         8.46         82.74  \n",
       "1     29.08      3.58      6.81         0.77         40.24  \n",
       "2     15.85     12.88      3.79         3.31         35.82  \n",
       "3     15.75     11.01      3.28         2.96         33.00  \n",
       "4     11.27      8.89     10.22         1.00         31.37  "
      ]
     },
     "execution_count": 847,
     "metadata": {},
     "output_type": "execute_result"
    }
   ],
   "source": [
    "# Show the games table\n",
    "games.head()"
   ]
  },
  {
   "cell_type": "code",
   "execution_count": 848,
   "metadata": {},
   "outputs": [
    {
     "data": {
      "text/html": [
       "<div>\n",
       "<style scoped>\n",
       "    .dataframe tbody tr th:only-of-type {\n",
       "        vertical-align: middle;\n",
       "    }\n",
       "\n",
       "    .dataframe tbody tr th {\n",
       "        vertical-align: top;\n",
       "    }\n",
       "\n",
       "    .dataframe thead th {\n",
       "        text-align: right;\n",
       "    }\n",
       "</style>\n",
       "<table border=\"1\" class=\"dataframe\">\n",
       "  <thead>\n",
       "    <tr style=\"text-align: right;\">\n",
       "      <th></th>\n",
       "      <th>Year</th>\n",
       "      <th>Total</th>\n",
       "    </tr>\n",
       "  </thead>\n",
       "  <tbody>\n",
       "    <tr>\n",
       "      <th>0</th>\n",
       "      <td>1960</td>\n",
       "      <td>9.940132e+12</td>\n",
       "    </tr>\n",
       "    <tr>\n",
       "      <th>1</th>\n",
       "      <td>1961</td>\n",
       "      <td>1.043138e+13</td>\n",
       "    </tr>\n",
       "    <tr>\n",
       "      <th>2</th>\n",
       "      <td>1962</td>\n",
       "      <td>1.110791e+13</td>\n",
       "    </tr>\n",
       "    <tr>\n",
       "      <th>3</th>\n",
       "      <td>1963</td>\n",
       "      <td>1.202426e+13</td>\n",
       "    </tr>\n",
       "    <tr>\n",
       "      <th>4</th>\n",
       "      <td>1964</td>\n",
       "      <td>1.327069e+13</td>\n",
       "    </tr>\n",
       "  </tbody>\n",
       "</table>\n",
       "</div>"
      ],
      "text/plain": [
       "   Year         Total\n",
       "0  1960  9.940132e+12\n",
       "1  1961  1.043138e+13\n",
       "2  1962  1.110791e+13\n",
       "3  1963  1.202426e+13\n",
       "4  1964  1.327069e+13"
      ]
     },
     "execution_count": 848,
     "metadata": {},
     "output_type": "execute_result"
    }
   ],
   "source": [
    "# Show the GDP table\n",
    "gdp.head()"
   ]
  },
  {
   "cell_type": "code",
   "execution_count": 849,
   "metadata": {},
   "outputs": [
    {
     "data": {
      "text/html": [
       "<div>\n",
       "<style scoped>\n",
       "    .dataframe tbody tr th:only-of-type {\n",
       "        vertical-align: middle;\n",
       "    }\n",
       "\n",
       "    .dataframe tbody tr th {\n",
       "        vertical-align: top;\n",
       "    }\n",
       "\n",
       "    .dataframe thead th {\n",
       "        text-align: right;\n",
       "    }\n",
       "</style>\n",
       "<table border=\"1\" class=\"dataframe\">\n",
       "  <thead>\n",
       "    <tr style=\"text-align: right;\">\n",
       "      <th></th>\n",
       "      <th>Year</th>\n",
       "      <th>Total</th>\n",
       "    </tr>\n",
       "  </thead>\n",
       "  <tbody>\n",
       "    <tr>\n",
       "      <th>0</th>\n",
       "      <td>1960</td>\n",
       "      <td>56.042872</td>\n",
       "    </tr>\n",
       "    <tr>\n",
       "      <th>1</th>\n",
       "      <td>1961</td>\n",
       "      <td>55.875365</td>\n",
       "    </tr>\n",
       "    <tr>\n",
       "      <th>2</th>\n",
       "      <td>1962</td>\n",
       "      <td>55.738212</td>\n",
       "    </tr>\n",
       "    <tr>\n",
       "      <th>3</th>\n",
       "      <td>1963</td>\n",
       "      <td>55.608248</td>\n",
       "    </tr>\n",
       "    <tr>\n",
       "      <th>4</th>\n",
       "      <td>1964</td>\n",
       "      <td>55.497390</td>\n",
       "    </tr>\n",
       "  </tbody>\n",
       "</table>\n",
       "</div>"
      ],
      "text/plain": [
       "   Year      Total\n",
       "0  1960  56.042872\n",
       "1  1961  55.875365\n",
       "2  1962  55.738212\n",
       "3  1963  55.608248\n",
       "4  1964  55.497390"
      ]
     },
     "execution_count": 849,
     "metadata": {},
     "output_type": "execute_result"
    }
   ],
   "source": [
    "# Show population table\n",
    "population.head()"
   ]
  },
  {
   "cell_type": "code",
   "execution_count": 850,
   "metadata": {},
   "outputs": [],
   "source": [
    "# Rename Total column in population\n",
    "population.rename(columns={'Total': 'AVG_15-64_Pop%'}, inplace=True)"
   ]
  },
  {
   "cell_type": "code",
   "execution_count": 851,
   "metadata": {},
   "outputs": [],
   "source": [
    "# Join games and population tables on year\n",
    "games = games.merge(population, on = [\"Year\"], how=\"left\")"
   ]
  },
  {
   "cell_type": "code",
   "execution_count": 852,
   "metadata": {},
   "outputs": [],
   "source": [
    "# Rename Total column in GDP table\n",
    "gdp.rename(columns={'Total': 'World_GDP'}, inplace=True)"
   ]
  },
  {
   "cell_type": "code",
   "execution_count": 853,
   "metadata": {},
   "outputs": [],
   "source": [
    "# Join games and gdp tables on year\n",
    "games = games.merge(gdp, on = [\"Year\"], how=\"left\")"
   ]
  },
  {
   "cell_type": "code",
   "execution_count": 854,
   "metadata": {},
   "outputs": [],
   "source": [
    "# Take a log of global sales, gdp and population % to eliminate extreme values\n",
    "games[\"Global_Sales\"] = np.log(games[\"Global_Sales\"])\n",
    "games[\"World_GDP\"] = np.log(games[\"World_GDP\"])\n",
    "games[\"AVG_15-64_Pop%\"] = np.log(games[\"AVG_15-64_Pop%\"])"
   ]
  },
  {
   "cell_type": "code",
   "execution_count": 855,
   "metadata": {},
   "outputs": [
    {
     "data": {
      "text/html": [
       "<div>\n",
       "<style scoped>\n",
       "    .dataframe tbody tr th:only-of-type {\n",
       "        vertical-align: middle;\n",
       "    }\n",
       "\n",
       "    .dataframe tbody tr th {\n",
       "        vertical-align: top;\n",
       "    }\n",
       "\n",
       "    .dataframe thead th {\n",
       "        text-align: right;\n",
       "    }\n",
       "</style>\n",
       "<table border=\"1\" class=\"dataframe\">\n",
       "  <thead>\n",
       "    <tr style=\"text-align: right;\">\n",
       "      <th></th>\n",
       "      <th>Name</th>\n",
       "      <th>Platform</th>\n",
       "      <th>Year</th>\n",
       "      <th>Genre</th>\n",
       "      <th>Publisher</th>\n",
       "      <th>Global_Sales</th>\n",
       "      <th>AVG_15-64_Pop%</th>\n",
       "      <th>World_GDP</th>\n",
       "    </tr>\n",
       "  </thead>\n",
       "  <tbody>\n",
       "    <tr>\n",
       "      <th>0</th>\n",
       "      <td>Wii Sports</td>\n",
       "      <td>Wii</td>\n",
       "      <td>2006</td>\n",
       "      <td>Sports</td>\n",
       "      <td>Nintendo</td>\n",
       "      <td>4.415703</td>\n",
       "      <td>4.140218</td>\n",
       "      <td>33.610978</td>\n",
       "    </tr>\n",
       "    <tr>\n",
       "      <th>1</th>\n",
       "      <td>Super Mario Bros.</td>\n",
       "      <td>NES</td>\n",
       "      <td>1985</td>\n",
       "      <td>Platform</td>\n",
       "      <td>Nintendo</td>\n",
       "      <td>3.694862</td>\n",
       "      <td>4.068963</td>\n",
       "      <td>32.179648</td>\n",
       "    </tr>\n",
       "    <tr>\n",
       "      <th>2</th>\n",
       "      <td>Mario Kart Wii</td>\n",
       "      <td>Wii</td>\n",
       "      <td>2008</td>\n",
       "      <td>Racing</td>\n",
       "      <td>Nintendo</td>\n",
       "      <td>3.578506</td>\n",
       "      <td>4.148259</td>\n",
       "      <td>33.855237</td>\n",
       "    </tr>\n",
       "    <tr>\n",
       "      <th>3</th>\n",
       "      <td>Wii Sports Resort</td>\n",
       "      <td>Wii</td>\n",
       "      <td>2009</td>\n",
       "      <td>Sports</td>\n",
       "      <td>Nintendo</td>\n",
       "      <td>3.496508</td>\n",
       "      <td>4.151141</td>\n",
       "      <td>33.804465</td>\n",
       "    </tr>\n",
       "    <tr>\n",
       "      <th>4</th>\n",
       "      <td>Pokemon Red/Pokemon Blue</td>\n",
       "      <td>GB</td>\n",
       "      <td>1996</td>\n",
       "      <td>Role-Playing</td>\n",
       "      <td>Nintendo</td>\n",
       "      <td>3.445852</td>\n",
       "      <td>4.093306</td>\n",
       "      <td>33.095176</td>\n",
       "    </tr>\n",
       "  </tbody>\n",
       "</table>\n",
       "</div>"
      ],
      "text/plain": [
       "                       Name Platform  Year         Genre Publisher  \\\n",
       "0                Wii Sports      Wii  2006        Sports  Nintendo   \n",
       "1         Super Mario Bros.      NES  1985      Platform  Nintendo   \n",
       "2            Mario Kart Wii      Wii  2008        Racing  Nintendo   \n",
       "3         Wii Sports Resort      Wii  2009        Sports  Nintendo   \n",
       "4  Pokemon Red/Pokemon Blue       GB  1996  Role-Playing  Nintendo   \n",
       "\n",
       "   Global_Sales  AVG_15-64_Pop%  World_GDP  \n",
       "0      4.415703        4.140218  33.610978  \n",
       "1      3.694862        4.068963  32.179648  \n",
       "2      3.578506        4.148259  33.855237  \n",
       "3      3.496508        4.151141  33.804465  \n",
       "4      3.445852        4.093306  33.095176  "
      ]
     },
     "execution_count": 855,
     "metadata": {},
     "output_type": "execute_result"
    }
   ],
   "source": [
    "# We drop Rank, NA_Sales, EU_Sales, JP_Sales, Other_Sales to avoid multicolinearity issues,\n",
    "# as Global_Sales is a summation of other sales columns and Rank is determined by Global_Sales\n",
    "games.drop(columns=['Rank', 'NA_Sales', 'EU_Sales', 'JP_Sales', 'Other_Sales'], inplace=True)\n",
    "games.head()"
   ]
  },
  {
   "cell_type": "code",
   "execution_count": 856,
   "metadata": {},
   "outputs": [
    {
     "data": {
      "text/html": [
       "<div>\n",
       "<style scoped>\n",
       "    .dataframe tbody tr th:only-of-type {\n",
       "        vertical-align: middle;\n",
       "    }\n",
       "\n",
       "    .dataframe tbody tr th {\n",
       "        vertical-align: top;\n",
       "    }\n",
       "\n",
       "    .dataframe thead th {\n",
       "        text-align: right;\n",
       "    }\n",
       "</style>\n",
       "<table border=\"1\" class=\"dataframe\">\n",
       "  <thead>\n",
       "    <tr style=\"text-align: right;\">\n",
       "      <th></th>\n",
       "      <th>Name</th>\n",
       "      <th>Platform</th>\n",
       "      <th>Year</th>\n",
       "      <th>Genre</th>\n",
       "      <th>Publisher</th>\n",
       "      <th>Global_Sales</th>\n",
       "      <th>AVG_15-64_Pop%</th>\n",
       "      <th>World_GDP</th>\n",
       "      <th>Previous_Year_Platform_AVG_Sales</th>\n",
       "    </tr>\n",
       "  </thead>\n",
       "  <tbody>\n",
       "    <tr>\n",
       "      <th>0</th>\n",
       "      <td>Wii Sports</td>\n",
       "      <td>Wii</td>\n",
       "      <td>2006</td>\n",
       "      <td>Sports</td>\n",
       "      <td>Nintendo</td>\n",
       "      <td>4.415703</td>\n",
       "      <td>4.140218</td>\n",
       "      <td>33.610978</td>\n",
       "      <td>NaN</td>\n",
       "    </tr>\n",
       "    <tr>\n",
       "      <th>1</th>\n",
       "      <td>Super Mario Bros.</td>\n",
       "      <td>NES</td>\n",
       "      <td>1985</td>\n",
       "      <td>Platform</td>\n",
       "      <td>Nintendo</td>\n",
       "      <td>3.694862</td>\n",
       "      <td>4.068963</td>\n",
       "      <td>32.179648</td>\n",
       "      <td>0.670776</td>\n",
       "    </tr>\n",
       "    <tr>\n",
       "      <th>2</th>\n",
       "      <td>Mario Kart Wii</td>\n",
       "      <td>Wii</td>\n",
       "      <td>2008</td>\n",
       "      <td>Racing</td>\n",
       "      <td>Nintendo</td>\n",
       "      <td>3.578506</td>\n",
       "      <td>4.148259</td>\n",
       "      <td>33.855237</td>\n",
       "      <td>-1.540902</td>\n",
       "    </tr>\n",
       "    <tr>\n",
       "      <th>3</th>\n",
       "      <td>Wii Sports Resort</td>\n",
       "      <td>Wii</td>\n",
       "      <td>2009</td>\n",
       "      <td>Sports</td>\n",
       "      <td>Nintendo</td>\n",
       "      <td>3.496508</td>\n",
       "      <td>4.151141</td>\n",
       "      <td>33.804465</td>\n",
       "      <td>-1.510655</td>\n",
       "    </tr>\n",
       "    <tr>\n",
       "      <th>4</th>\n",
       "      <td>Pokemon Red/Pokemon Blue</td>\n",
       "      <td>GB</td>\n",
       "      <td>1996</td>\n",
       "      <td>Role-Playing</td>\n",
       "      <td>Nintendo</td>\n",
       "      <td>3.445852</td>\n",
       "      <td>4.093306</td>\n",
       "      <td>33.095176</td>\n",
       "      <td>-0.490695</td>\n",
       "    </tr>\n",
       "  </tbody>\n",
       "</table>\n",
       "</div>"
      ],
      "text/plain": [
       "                       Name Platform  Year         Genre Publisher  \\\n",
       "0                Wii Sports      Wii  2006        Sports  Nintendo   \n",
       "1         Super Mario Bros.      NES  1985      Platform  Nintendo   \n",
       "2            Mario Kart Wii      Wii  2008        Racing  Nintendo   \n",
       "3         Wii Sports Resort      Wii  2009        Sports  Nintendo   \n",
       "4  Pokemon Red/Pokemon Blue       GB  1996  Role-Playing  Nintendo   \n",
       "\n",
       "   Global_Sales  AVG_15-64_Pop%  World_GDP  Previous_Year_Platform_AVG_Sales  \n",
       "0      4.415703        4.140218  33.610978                               NaN  \n",
       "1      3.694862        4.068963  32.179648                          0.670776  \n",
       "2      3.578506        4.148259  33.855237                         -1.540902  \n",
       "3      3.496508        4.151141  33.804465                         -1.510655  \n",
       "4      3.445852        4.093306  33.095176                         -0.490695  "
      ]
     },
     "execution_count": 856,
     "metadata": {},
     "output_type": "execute_result"
    }
   ],
   "source": [
    "# Creating an previous year avarege sales by platform column \n",
    "games_avg_pltf = games.groupby(by = [\"Platform\", \"Year\"], as_index=False)[\"Global_Sales\"].mean()\n",
    "games_avg_pltf[\"Year\"]=games_avg_pltf[\"Year\"] + 1 \n",
    "games = games.merge(games_avg_pltf, on = [\"Platform\", \"Year\"], how= \"left\")\n",
    "games = games.rename(columns={\"Global_Sales_x\": \"Global_Sales\", \"Global_Sales_y\":\"Previous_Year_Platform_AVG_Sales\"})\n",
    "games.head()"
   ]
  },
  {
   "cell_type": "code",
   "execution_count": 857,
   "metadata": {},
   "outputs": [
    {
     "data": {
      "text/html": [
       "<div>\n",
       "<style scoped>\n",
       "    .dataframe tbody tr th:only-of-type {\n",
       "        vertical-align: middle;\n",
       "    }\n",
       "\n",
       "    .dataframe tbody tr th {\n",
       "        vertical-align: top;\n",
       "    }\n",
       "\n",
       "    .dataframe thead th {\n",
       "        text-align: right;\n",
       "    }\n",
       "</style>\n",
       "<table border=\"1\" class=\"dataframe\">\n",
       "  <thead>\n",
       "    <tr style=\"text-align: right;\">\n",
       "      <th></th>\n",
       "      <th>Name</th>\n",
       "      <th>Platform</th>\n",
       "      <th>Year</th>\n",
       "      <th>Genre</th>\n",
       "      <th>Publisher</th>\n",
       "      <th>Global_Sales</th>\n",
       "      <th>AVG_15-64_Pop%</th>\n",
       "      <th>World_GDP</th>\n",
       "      <th>Previous_Year_Platform_AVG_Sales</th>\n",
       "      <th>Previous_Year_Publisher_AVG_Sales</th>\n",
       "    </tr>\n",
       "  </thead>\n",
       "  <tbody>\n",
       "    <tr>\n",
       "      <th>0</th>\n",
       "      <td>Wii Sports</td>\n",
       "      <td>Wii</td>\n",
       "      <td>2006</td>\n",
       "      <td>Sports</td>\n",
       "      <td>Nintendo</td>\n",
       "      <td>4.415703</td>\n",
       "      <td>4.140218</td>\n",
       "      <td>33.610978</td>\n",
       "      <td>NaN</td>\n",
       "      <td>-0.416521</td>\n",
       "    </tr>\n",
       "    <tr>\n",
       "      <th>1</th>\n",
       "      <td>Super Mario Bros.</td>\n",
       "      <td>NES</td>\n",
       "      <td>1985</td>\n",
       "      <td>Platform</td>\n",
       "      <td>Nintendo</td>\n",
       "      <td>3.694862</td>\n",
       "      <td>4.068963</td>\n",
       "      <td>32.179648</td>\n",
       "      <td>0.670776</td>\n",
       "      <td>0.930919</td>\n",
       "    </tr>\n",
       "    <tr>\n",
       "      <th>2</th>\n",
       "      <td>Mario Kart Wii</td>\n",
       "      <td>Wii</td>\n",
       "      <td>2008</td>\n",
       "      <td>Racing</td>\n",
       "      <td>Nintendo</td>\n",
       "      <td>3.578506</td>\n",
       "      <td>4.148259</td>\n",
       "      <td>33.855237</td>\n",
       "      <td>-1.540902</td>\n",
       "      <td>-0.594387</td>\n",
       "    </tr>\n",
       "    <tr>\n",
       "      <th>3</th>\n",
       "      <td>Wii Sports Resort</td>\n",
       "      <td>Wii</td>\n",
       "      <td>2009</td>\n",
       "      <td>Sports</td>\n",
       "      <td>Nintendo</td>\n",
       "      <td>3.496508</td>\n",
       "      <td>4.151141</td>\n",
       "      <td>33.804465</td>\n",
       "      <td>-1.510655</td>\n",
       "      <td>-0.351708</td>\n",
       "    </tr>\n",
       "    <tr>\n",
       "      <th>4</th>\n",
       "      <td>Pokemon Red/Pokemon Blue</td>\n",
       "      <td>GB</td>\n",
       "      <td>1996</td>\n",
       "      <td>Role-Playing</td>\n",
       "      <td>Nintendo</td>\n",
       "      <td>3.445852</td>\n",
       "      <td>4.093306</td>\n",
       "      <td>33.095176</td>\n",
       "      <td>-0.490695</td>\n",
       "      <td>-0.294144</td>\n",
       "    </tr>\n",
       "  </tbody>\n",
       "</table>\n",
       "</div>"
      ],
      "text/plain": [
       "                       Name Platform  Year         Genre Publisher  \\\n",
       "0                Wii Sports      Wii  2006        Sports  Nintendo   \n",
       "1         Super Mario Bros.      NES  1985      Platform  Nintendo   \n",
       "2            Mario Kart Wii      Wii  2008        Racing  Nintendo   \n",
       "3         Wii Sports Resort      Wii  2009        Sports  Nintendo   \n",
       "4  Pokemon Red/Pokemon Blue       GB  1996  Role-Playing  Nintendo   \n",
       "\n",
       "   Global_Sales  AVG_15-64_Pop%  World_GDP  Previous_Year_Platform_AVG_Sales  \\\n",
       "0      4.415703        4.140218  33.610978                               NaN   \n",
       "1      3.694862        4.068963  32.179648                          0.670776   \n",
       "2      3.578506        4.148259  33.855237                         -1.540902   \n",
       "3      3.496508        4.151141  33.804465                         -1.510655   \n",
       "4      3.445852        4.093306  33.095176                         -0.490695   \n",
       "\n",
       "   Previous_Year_Publisher_AVG_Sales  \n",
       "0                          -0.416521  \n",
       "1                           0.930919  \n",
       "2                          -0.594387  \n",
       "3                          -0.351708  \n",
       "4                          -0.294144  "
      ]
     },
     "execution_count": 857,
     "metadata": {},
     "output_type": "execute_result"
    }
   ],
   "source": [
    "# Creating an previous year avarege sales by Publisher column \n",
    "games_avg_pub = games.groupby(by = [\"Publisher\", \"Year\"], as_index=False)[\"Global_Sales\"].mean()\n",
    "games_avg_pub[\"Year\"]=games_avg_pub[\"Year\"] + 1 \n",
    "games = games.merge(games_avg_pub, on = [\"Publisher\", \"Year\"], how= \"left\")\n",
    "games = games.rename(columns={\"Global_Sales_x\": \"Global_Sales\", \"Global_Sales_y\":\"Previous_Year_Publisher_AVG_Sales\"})\n",
    "games.head()"
   ]
  },
  {
   "cell_type": "code",
   "execution_count": 858,
   "metadata": {},
   "outputs": [
    {
     "data": {
      "text/html": [
       "<div>\n",
       "<style scoped>\n",
       "    .dataframe tbody tr th:only-of-type {\n",
       "        vertical-align: middle;\n",
       "    }\n",
       "\n",
       "    .dataframe tbody tr th {\n",
       "        vertical-align: top;\n",
       "    }\n",
       "\n",
       "    .dataframe thead th {\n",
       "        text-align: right;\n",
       "    }\n",
       "</style>\n",
       "<table border=\"1\" class=\"dataframe\">\n",
       "  <thead>\n",
       "    <tr style=\"text-align: right;\">\n",
       "      <th></th>\n",
       "      <th>Name</th>\n",
       "      <th>Platform</th>\n",
       "      <th>Year</th>\n",
       "      <th>Genre</th>\n",
       "      <th>Publisher</th>\n",
       "      <th>Global_Sales</th>\n",
       "      <th>AVG_15-64_Pop%</th>\n",
       "      <th>World_GDP</th>\n",
       "      <th>Previous_Year_Platform_AVG_Sales</th>\n",
       "      <th>Previous_Year_Publisher_AVG_Sales</th>\n",
       "      <th>Previous_Year_Genre_AVG_Sales</th>\n",
       "    </tr>\n",
       "  </thead>\n",
       "  <tbody>\n",
       "    <tr>\n",
       "      <th>0</th>\n",
       "      <td>Wii Sports</td>\n",
       "      <td>Wii</td>\n",
       "      <td>2006</td>\n",
       "      <td>Sports</td>\n",
       "      <td>Nintendo</td>\n",
       "      <td>4.415703</td>\n",
       "      <td>4.140218</td>\n",
       "      <td>33.610978</td>\n",
       "      <td>NaN</td>\n",
       "      <td>-0.416521</td>\n",
       "      <td>-1.495709</td>\n",
       "    </tr>\n",
       "    <tr>\n",
       "      <th>1</th>\n",
       "      <td>Super Mario Bros.</td>\n",
       "      <td>NES</td>\n",
       "      <td>1985</td>\n",
       "      <td>Platform</td>\n",
       "      <td>Nintendo</td>\n",
       "      <td>3.694862</td>\n",
       "      <td>4.068963</td>\n",
       "      <td>32.179648</td>\n",
       "      <td>0.670776</td>\n",
       "      <td>0.930919</td>\n",
       "      <td>-0.371064</td>\n",
       "    </tr>\n",
       "    <tr>\n",
       "      <th>2</th>\n",
       "      <td>Mario Kart Wii</td>\n",
       "      <td>Wii</td>\n",
       "      <td>2008</td>\n",
       "      <td>Racing</td>\n",
       "      <td>Nintendo</td>\n",
       "      <td>3.578506</td>\n",
       "      <td>4.148259</td>\n",
       "      <td>33.855237</td>\n",
       "      <td>-1.540902</td>\n",
       "      <td>-0.594387</td>\n",
       "      <td>-1.894421</td>\n",
       "    </tr>\n",
       "    <tr>\n",
       "      <th>3</th>\n",
       "      <td>Wii Sports Resort</td>\n",
       "      <td>Wii</td>\n",
       "      <td>2009</td>\n",
       "      <td>Sports</td>\n",
       "      <td>Nintendo</td>\n",
       "      <td>3.496508</td>\n",
       "      <td>4.151141</td>\n",
       "      <td>33.804465</td>\n",
       "      <td>-1.510655</td>\n",
       "      <td>-0.351708</td>\n",
       "      <td>-1.503771</td>\n",
       "    </tr>\n",
       "    <tr>\n",
       "      <th>4</th>\n",
       "      <td>Pokemon Red/Pokemon Blue</td>\n",
       "      <td>GB</td>\n",
       "      <td>1996</td>\n",
       "      <td>Role-Playing</td>\n",
       "      <td>Nintendo</td>\n",
       "      <td>3.445852</td>\n",
       "      <td>4.093306</td>\n",
       "      <td>33.095176</td>\n",
       "      <td>-0.490695</td>\n",
       "      <td>-0.294144</td>\n",
       "      <td>-1.095763</td>\n",
       "    </tr>\n",
       "  </tbody>\n",
       "</table>\n",
       "</div>"
      ],
      "text/plain": [
       "                       Name Platform  Year         Genre Publisher  \\\n",
       "0                Wii Sports      Wii  2006        Sports  Nintendo   \n",
       "1         Super Mario Bros.      NES  1985      Platform  Nintendo   \n",
       "2            Mario Kart Wii      Wii  2008        Racing  Nintendo   \n",
       "3         Wii Sports Resort      Wii  2009        Sports  Nintendo   \n",
       "4  Pokemon Red/Pokemon Blue       GB  1996  Role-Playing  Nintendo   \n",
       "\n",
       "   Global_Sales  AVG_15-64_Pop%  World_GDP  Previous_Year_Platform_AVG_Sales  \\\n",
       "0      4.415703        4.140218  33.610978                               NaN   \n",
       "1      3.694862        4.068963  32.179648                          0.670776   \n",
       "2      3.578506        4.148259  33.855237                         -1.540902   \n",
       "3      3.496508        4.151141  33.804465                         -1.510655   \n",
       "4      3.445852        4.093306  33.095176                         -0.490695   \n",
       "\n",
       "   Previous_Year_Publisher_AVG_Sales  Previous_Year_Genre_AVG_Sales  \n",
       "0                          -0.416521                      -1.495709  \n",
       "1                           0.930919                      -0.371064  \n",
       "2                          -0.594387                      -1.894421  \n",
       "3                          -0.351708                      -1.503771  \n",
       "4                          -0.294144                      -1.095763  "
      ]
     },
     "execution_count": 858,
     "metadata": {},
     "output_type": "execute_result"
    }
   ],
   "source": [
    "# Creating an previous year avarege sales by Genre column \n",
    "games_avg_genre = games.groupby(by = [\"Genre\", \"Year\"], as_index=False)[\"Global_Sales\"].mean()\n",
    "games_avg_genre[\"Year\"]=games_avg_genre[\"Year\"] + 1 \n",
    "games = games.merge(games_avg_genre, on = [\"Genre\", \"Year\"], how= \"left\")\n",
    "games = games.rename(columns={\"Global_Sales_x\": \"Global_Sales\", \"Global_Sales_y\":\"Previous_Year_Genre_AVG_Sales\"})\n",
    "games.head()"
   ]
  },
  {
   "cell_type": "code",
   "execution_count": 859,
   "metadata": {},
   "outputs": [
    {
     "data": {
      "text/plain": [
       "Name                                 11493\n",
       "Platform                                31\n",
       "Year                                    39\n",
       "Genre                                   12\n",
       "Publisher                              578\n",
       "Global_Sales                           623\n",
       "AVG_15-64_Pop%                          39\n",
       "World_GDP                               39\n",
       "Previous_Year_Platform_AVG_Sales       202\n",
       "Previous_Year_Publisher_AVG_Sales     1074\n",
       "Previous_Year_Genre_AVG_Sales          356\n",
       "dtype: int64"
      ]
     },
     "execution_count": 859,
     "metadata": {},
     "output_type": "execute_result"
    }
   ],
   "source": [
    "# Determine the number of unique values in each column.\n",
    "games.nunique()"
   ]
  },
  {
   "cell_type": "code",
   "execution_count": 860,
   "metadata": {},
   "outputs": [],
   "source": [
    "# Dropping Year and categorical columns\n",
    "games.drop(columns=['Year','Genre','Publisher', 'Platform'], inplace=True)"
   ]
  },
  {
   "cell_type": "code",
   "execution_count": 861,
   "metadata": {},
   "outputs": [
    {
     "data": {
      "text/html": [
       "<div>\n",
       "<style scoped>\n",
       "    .dataframe tbody tr th:only-of-type {\n",
       "        vertical-align: middle;\n",
       "    }\n",
       "\n",
       "    .dataframe tbody tr th {\n",
       "        vertical-align: top;\n",
       "    }\n",
       "\n",
       "    .dataframe thead th {\n",
       "        text-align: right;\n",
       "    }\n",
       "</style>\n",
       "<table border=\"1\" class=\"dataframe\">\n",
       "  <thead>\n",
       "    <tr style=\"text-align: right;\">\n",
       "      <th></th>\n",
       "      <th>Name</th>\n",
       "      <th>Global_Sales</th>\n",
       "      <th>AVG_15-64_Pop%</th>\n",
       "      <th>World_GDP</th>\n",
       "      <th>Previous_Year_Platform_AVG_Sales</th>\n",
       "      <th>Previous_Year_Publisher_AVG_Sales</th>\n",
       "      <th>Previous_Year_Genre_AVG_Sales</th>\n",
       "    </tr>\n",
       "  </thead>\n",
       "  <tbody>\n",
       "    <tr>\n",
       "      <th>0</th>\n",
       "      <td>Wii Sports</td>\n",
       "      <td>4.415703</td>\n",
       "      <td>4.140218</td>\n",
       "      <td>33.610978</td>\n",
       "      <td>NaN</td>\n",
       "      <td>-0.416521</td>\n",
       "      <td>-1.495709</td>\n",
       "    </tr>\n",
       "    <tr>\n",
       "      <th>1</th>\n",
       "      <td>Super Mario Bros.</td>\n",
       "      <td>3.694862</td>\n",
       "      <td>4.068963</td>\n",
       "      <td>32.179648</td>\n",
       "      <td>0.670776</td>\n",
       "      <td>0.930919</td>\n",
       "      <td>-0.371064</td>\n",
       "    </tr>\n",
       "    <tr>\n",
       "      <th>2</th>\n",
       "      <td>Mario Kart Wii</td>\n",
       "      <td>3.578506</td>\n",
       "      <td>4.148259</td>\n",
       "      <td>33.855237</td>\n",
       "      <td>-1.540902</td>\n",
       "      <td>-0.594387</td>\n",
       "      <td>-1.894421</td>\n",
       "    </tr>\n",
       "    <tr>\n",
       "      <th>3</th>\n",
       "      <td>Wii Sports Resort</td>\n",
       "      <td>3.496508</td>\n",
       "      <td>4.151141</td>\n",
       "      <td>33.804465</td>\n",
       "      <td>-1.510655</td>\n",
       "      <td>-0.351708</td>\n",
       "      <td>-1.503771</td>\n",
       "    </tr>\n",
       "    <tr>\n",
       "      <th>4</th>\n",
       "      <td>Pokemon Red/Pokemon Blue</td>\n",
       "      <td>3.445852</td>\n",
       "      <td>4.093306</td>\n",
       "      <td>33.095176</td>\n",
       "      <td>-0.490695</td>\n",
       "      <td>-0.294144</td>\n",
       "      <td>-1.095763</td>\n",
       "    </tr>\n",
       "  </tbody>\n",
       "</table>\n",
       "</div>"
      ],
      "text/plain": [
       "                       Name  Global_Sales  AVG_15-64_Pop%  World_GDP  \\\n",
       "0                Wii Sports      4.415703        4.140218  33.610978   \n",
       "1         Super Mario Bros.      3.694862        4.068963  32.179648   \n",
       "2            Mario Kart Wii      3.578506        4.148259  33.855237   \n",
       "3         Wii Sports Resort      3.496508        4.151141  33.804465   \n",
       "4  Pokemon Red/Pokemon Blue      3.445852        4.093306  33.095176   \n",
       "\n",
       "   Previous_Year_Platform_AVG_Sales  Previous_Year_Publisher_AVG_Sales  \\\n",
       "0                               NaN                          -0.416521   \n",
       "1                          0.670776                           0.930919   \n",
       "2                         -1.540902                          -0.594387   \n",
       "3                         -1.510655                          -0.351708   \n",
       "4                         -0.490695                          -0.294144   \n",
       "\n",
       "   Previous_Year_Genre_AVG_Sales  \n",
       "0                      -1.495709  \n",
       "1                      -0.371064  \n",
       "2                      -1.894421  \n",
       "3                      -1.503771  \n",
       "4                      -1.095763  "
      ]
     },
     "execution_count": 861,
     "metadata": {},
     "output_type": "execute_result"
    }
   ],
   "source": [
    "# Displaying the table\n",
    "games.head()"
   ]
  },
  {
   "cell_type": "code",
   "execution_count": 862,
   "metadata": {},
   "outputs": [],
   "source": [
    "# Splitting the names to words and collecting words that have more than 4 letters\n",
    "words = games['Name'].str.split().explode()\n",
    "filtered_words = words[words.str.len() >= 4]"
   ]
  },
  {
   "cell_type": "code",
   "execution_count": 863,
   "metadata": {},
   "outputs": [
    {
     "data": {
      "text/html": [
       "<div>\n",
       "<style scoped>\n",
       "    .dataframe tbody tr th:only-of-type {\n",
       "        vertical-align: middle;\n",
       "    }\n",
       "\n",
       "    .dataframe tbody tr th {\n",
       "        vertical-align: top;\n",
       "    }\n",
       "\n",
       "    .dataframe thead th {\n",
       "        text-align: right;\n",
       "    }\n",
       "</style>\n",
       "<table border=\"1\" class=\"dataframe\">\n",
       "  <thead>\n",
       "    <tr style=\"text-align: right;\">\n",
       "      <th></th>\n",
       "      <th>Frequency</th>\n",
       "    </tr>\n",
       "  </thead>\n",
       "  <tbody>\n",
       "    <tr>\n",
       "      <th>World</th>\n",
       "      <td>386</td>\n",
       "    </tr>\n",
       "    <tr>\n",
       "      <th>Game</th>\n",
       "      <td>300</td>\n",
       "    </tr>\n",
       "    <tr>\n",
       "      <th>Super</th>\n",
       "      <td>289</td>\n",
       "    </tr>\n",
       "    <tr>\n",
       "      <th>Star</th>\n",
       "      <td>235</td>\n",
       "    </tr>\n",
       "    <tr>\n",
       "      <th>Soccer</th>\n",
       "      <td>221</td>\n",
       "    </tr>\n",
       "  </tbody>\n",
       "</table>\n",
       "</div>"
      ],
      "text/plain": [
       "        Frequency\n",
       "World         386\n",
       "Game          300\n",
       "Super         289\n",
       "Star          235\n",
       "Soccer        221"
      ]
     },
     "execution_count": 863,
     "metadata": {},
     "output_type": "execute_result"
    }
   ],
   "source": [
    "# Creating a dataframe with the freaquency of used words for games\n",
    "from collections import Counter\n",
    "word_counts = Counter(filtered_words)\n",
    "word_counts_df = pd.DataFrame.from_dict(word_counts, orient='index', columns=['Frequency'])\n",
    "word_counts_df = word_counts_df.sort_values(by='Frequency', ascending=False)\n",
    "word_counts_df.head()"
   ]
  },
  {
   "cell_type": "code",
   "execution_count": 864,
   "metadata": {},
   "outputs": [],
   "source": [
    "# Creating the list with top 5% of the most used words\n",
    "top_5_percent_threshold = np.percentile(word_counts_df['Frequency'], 95)\n",
    "top_5_percent_words = word_counts_df[word_counts_df['Frequency'] >= top_5_percent_threshold]\n",
    "words_list =list(top_5_percent_words.index)"
   ]
  },
  {
   "cell_type": "code",
   "execution_count": 865,
   "metadata": {},
   "outputs": [],
   "source": [
    "def world_counter(game_name):\n",
    "    \n",
    "    # Split the game name into a list of words\n",
    "    words = game_name.split()\n",
    "    \n",
    "    # Initialize a counter to keep track of how many words match the words in words_list\n",
    "    counter = 0\n",
    "\n",
    "    # Loop through each word in the list of words\n",
    "    for w in words:\n",
    "\n",
    "        # Check if the word is present in the predefined list called words_list\n",
    "        if w in words_list:\n",
    "             # If the word is found in words_list, increment the counter by 1\n",
    "            counter +=1\n",
    "    return counter "
   ]
  },
  {
   "cell_type": "code",
   "execution_count": 866,
   "metadata": {},
   "outputs": [],
   "source": [
    "# Add a \"Word_Counter\" column by applying the world_counter function to the 'Name' column for each row\n",
    "games[\"Word_Counter\"] = games.apply(lambda x: world_counter(x['Name']), axis =1)"
   ]
  },
  {
   "cell_type": "code",
   "execution_count": 867,
   "metadata": {},
   "outputs": [],
   "source": [
    "# # Creating  avarege sales by Word_Counter column \n",
    "word_sales_mean = games.groupby('Word_Counter')['Global_Sales'].mean()\n",
    "games['Word_Counter_Sales'] = games['Word_Counter'].map(word_sales_mean)"
   ]
  },
  {
   "cell_type": "code",
   "execution_count": 868,
   "metadata": {},
   "outputs": [
    {
     "data": {
      "text/html": [
       "<div>\n",
       "<style scoped>\n",
       "    .dataframe tbody tr th:only-of-type {\n",
       "        vertical-align: middle;\n",
       "    }\n",
       "\n",
       "    .dataframe tbody tr th {\n",
       "        vertical-align: top;\n",
       "    }\n",
       "\n",
       "    .dataframe thead th {\n",
       "        text-align: right;\n",
       "    }\n",
       "</style>\n",
       "<table border=\"1\" class=\"dataframe\">\n",
       "  <thead>\n",
       "    <tr style=\"text-align: right;\">\n",
       "      <th></th>\n",
       "      <th>Name</th>\n",
       "      <th>Global_Sales</th>\n",
       "      <th>AVG_15-64_Pop%</th>\n",
       "      <th>World_GDP</th>\n",
       "      <th>Previous_Year_Platform_AVG_Sales</th>\n",
       "      <th>Previous_Year_Publisher_AVG_Sales</th>\n",
       "      <th>Previous_Year_Genre_AVG_Sales</th>\n",
       "      <th>Word_Counter</th>\n",
       "      <th>Word_Counter_Sales</th>\n",
       "    </tr>\n",
       "  </thead>\n",
       "  <tbody>\n",
       "    <tr>\n",
       "      <th>0</th>\n",
       "      <td>Wii Sports</td>\n",
       "      <td>4.415703</td>\n",
       "      <td>4.140218</td>\n",
       "      <td>33.610978</td>\n",
       "      <td>NaN</td>\n",
       "      <td>-0.416521</td>\n",
       "      <td>-1.495709</td>\n",
       "      <td>1</td>\n",
       "      <td>-1.819978</td>\n",
       "    </tr>\n",
       "    <tr>\n",
       "      <th>1</th>\n",
       "      <td>Super Mario Bros.</td>\n",
       "      <td>3.694862</td>\n",
       "      <td>4.068963</td>\n",
       "      <td>32.179648</td>\n",
       "      <td>0.670776</td>\n",
       "      <td>0.930919</td>\n",
       "      <td>-0.371064</td>\n",
       "      <td>3</td>\n",
       "      <td>-1.448954</td>\n",
       "    </tr>\n",
       "    <tr>\n",
       "      <th>2</th>\n",
       "      <td>Mario Kart Wii</td>\n",
       "      <td>3.578506</td>\n",
       "      <td>4.148259</td>\n",
       "      <td>33.855237</td>\n",
       "      <td>-1.540902</td>\n",
       "      <td>-0.594387</td>\n",
       "      <td>-1.894421</td>\n",
       "      <td>2</td>\n",
       "      <td>-1.543546</td>\n",
       "    </tr>\n",
       "    <tr>\n",
       "      <th>3</th>\n",
       "      <td>Wii Sports Resort</td>\n",
       "      <td>3.496508</td>\n",
       "      <td>4.151141</td>\n",
       "      <td>33.804465</td>\n",
       "      <td>-1.510655</td>\n",
       "      <td>-0.351708</td>\n",
       "      <td>-1.503771</td>\n",
       "      <td>1</td>\n",
       "      <td>-1.819978</td>\n",
       "    </tr>\n",
       "    <tr>\n",
       "      <th>4</th>\n",
       "      <td>Pokemon Red/Pokemon Blue</td>\n",
       "      <td>3.445852</td>\n",
       "      <td>4.093306</td>\n",
       "      <td>33.095176</td>\n",
       "      <td>-0.490695</td>\n",
       "      <td>-0.294144</td>\n",
       "      <td>-1.095763</td>\n",
       "      <td>2</td>\n",
       "      <td>-1.543546</td>\n",
       "    </tr>\n",
       "  </tbody>\n",
       "</table>\n",
       "</div>"
      ],
      "text/plain": [
       "                       Name  Global_Sales  AVG_15-64_Pop%  World_GDP  \\\n",
       "0                Wii Sports      4.415703        4.140218  33.610978   \n",
       "1         Super Mario Bros.      3.694862        4.068963  32.179648   \n",
       "2            Mario Kart Wii      3.578506        4.148259  33.855237   \n",
       "3         Wii Sports Resort      3.496508        4.151141  33.804465   \n",
       "4  Pokemon Red/Pokemon Blue      3.445852        4.093306  33.095176   \n",
       "\n",
       "   Previous_Year_Platform_AVG_Sales  Previous_Year_Publisher_AVG_Sales  \\\n",
       "0                               NaN                          -0.416521   \n",
       "1                          0.670776                           0.930919   \n",
       "2                         -1.540902                          -0.594387   \n",
       "3                         -1.510655                          -0.351708   \n",
       "4                         -0.490695                          -0.294144   \n",
       "\n",
       "   Previous_Year_Genre_AVG_Sales  Word_Counter  Word_Counter_Sales  \n",
       "0                      -1.495709             1           -1.819978  \n",
       "1                      -0.371064             3           -1.448954  \n",
       "2                      -1.894421             2           -1.543546  \n",
       "3                      -1.503771             1           -1.819978  \n",
       "4                      -1.095763             2           -1.543546  "
      ]
     },
     "execution_count": 868,
     "metadata": {},
     "output_type": "execute_result"
    }
   ],
   "source": [
    "# Displaying the dataset\n",
    "games.head()"
   ]
  },
  {
   "cell_type": "code",
   "execution_count": 869,
   "metadata": {},
   "outputs": [],
   "source": [
    "# Dropping Name column\n",
    "games.drop(columns =['Name'], inplace = True, axis =1)"
   ]
  },
  {
   "cell_type": "code",
   "execution_count": 870,
   "metadata": {},
   "outputs": [],
   "source": [
    "# Filling NAs with means \n",
    "games[\"Previous_Year_Publisher_AVG_Sales\"].fillna(games[\"Previous_Year_Publisher_AVG_Sales\"].mean(), inplace=True)\n",
    "games[\"Previous_Year_Platform_AVG_Sales\"].fillna(games[\"Previous_Year_Platform_AVG_Sales\"].mean(), inplace=True)\n",
    "games[\"Previous_Year_Genre_AVG_Sales\"].fillna(games[\"Previous_Year_Genre_AVG_Sales\"].mean(), inplace=True)\n",
    "games[\"Word_Counter_Sales\"].fillna(games[\"Word_Counter_Sales\"].mean(), inplace=True)"
   ]
  },
  {
   "cell_type": "code",
   "execution_count": 871,
   "metadata": {},
   "outputs": [
    {
     "data": {
      "text/html": [
       "<div>\n",
       "<style scoped>\n",
       "    .dataframe tbody tr th:only-of-type {\n",
       "        vertical-align: middle;\n",
       "    }\n",
       "\n",
       "    .dataframe tbody tr th {\n",
       "        vertical-align: top;\n",
       "    }\n",
       "\n",
       "    .dataframe thead th {\n",
       "        text-align: right;\n",
       "    }\n",
       "</style>\n",
       "<table border=\"1\" class=\"dataframe\">\n",
       "  <thead>\n",
       "    <tr style=\"text-align: right;\">\n",
       "      <th></th>\n",
       "      <th>Global_Sales</th>\n",
       "      <th>AVG_15-64_Pop%</th>\n",
       "      <th>World_GDP</th>\n",
       "      <th>Previous_Year_Platform_AVG_Sales</th>\n",
       "      <th>Previous_Year_Publisher_AVG_Sales</th>\n",
       "      <th>Previous_Year_Genre_AVG_Sales</th>\n",
       "      <th>Word_Counter</th>\n",
       "      <th>Word_Counter_Sales</th>\n",
       "    </tr>\n",
       "  </thead>\n",
       "  <tbody>\n",
       "    <tr>\n",
       "      <th>0</th>\n",
       "      <td>4.415703</td>\n",
       "      <td>4.140218</td>\n",
       "      <td>33.610978</td>\n",
       "      <td>-1.622911</td>\n",
       "      <td>-0.416521</td>\n",
       "      <td>-1.495709</td>\n",
       "      <td>1</td>\n",
       "      <td>-1.819978</td>\n",
       "    </tr>\n",
       "    <tr>\n",
       "      <th>1</th>\n",
       "      <td>3.694862</td>\n",
       "      <td>4.068963</td>\n",
       "      <td>32.179648</td>\n",
       "      <td>0.670776</td>\n",
       "      <td>0.930919</td>\n",
       "      <td>-0.371064</td>\n",
       "      <td>3</td>\n",
       "      <td>-1.448954</td>\n",
       "    </tr>\n",
       "    <tr>\n",
       "      <th>2</th>\n",
       "      <td>3.578506</td>\n",
       "      <td>4.148259</td>\n",
       "      <td>33.855237</td>\n",
       "      <td>-1.540902</td>\n",
       "      <td>-0.594387</td>\n",
       "      <td>-1.894421</td>\n",
       "      <td>2</td>\n",
       "      <td>-1.543546</td>\n",
       "    </tr>\n",
       "    <tr>\n",
       "      <th>3</th>\n",
       "      <td>3.496508</td>\n",
       "      <td>4.151141</td>\n",
       "      <td>33.804465</td>\n",
       "      <td>-1.510655</td>\n",
       "      <td>-0.351708</td>\n",
       "      <td>-1.503771</td>\n",
       "      <td>1</td>\n",
       "      <td>-1.819978</td>\n",
       "    </tr>\n",
       "    <tr>\n",
       "      <th>4</th>\n",
       "      <td>3.445852</td>\n",
       "      <td>4.093306</td>\n",
       "      <td>33.095176</td>\n",
       "      <td>-0.490695</td>\n",
       "      <td>-0.294144</td>\n",
       "      <td>-1.095763</td>\n",
       "      <td>2</td>\n",
       "      <td>-1.543546</td>\n",
       "    </tr>\n",
       "  </tbody>\n",
       "</table>\n",
       "</div>"
      ],
      "text/plain": [
       "   Global_Sales  AVG_15-64_Pop%  World_GDP  Previous_Year_Platform_AVG_Sales  \\\n",
       "0      4.415703        4.140218  33.610978                         -1.622911   \n",
       "1      3.694862        4.068963  32.179648                          0.670776   \n",
       "2      3.578506        4.148259  33.855237                         -1.540902   \n",
       "3      3.496508        4.151141  33.804465                         -1.510655   \n",
       "4      3.445852        4.093306  33.095176                         -0.490695   \n",
       "\n",
       "   Previous_Year_Publisher_AVG_Sales  Previous_Year_Genre_AVG_Sales  \\\n",
       "0                          -0.416521                      -1.495709   \n",
       "1                           0.930919                      -0.371064   \n",
       "2                          -0.594387                      -1.894421   \n",
       "3                          -0.351708                      -1.503771   \n",
       "4                          -0.294144                      -1.095763   \n",
       "\n",
       "   Word_Counter  Word_Counter_Sales  \n",
       "0             1           -1.819978  \n",
       "1             3           -1.448954  \n",
       "2             2           -1.543546  \n",
       "3             1           -1.819978  \n",
       "4             2           -1.543546  "
      ]
     },
     "execution_count": 871,
     "metadata": {},
     "output_type": "execute_result"
    }
   ],
   "source": [
    "# Displaying datatable\n",
    "games.head()"
   ]
  },
  {
   "cell_type": "markdown",
   "metadata": {},
   "source": [
    "# Modelling"
   ]
  },
  {
   "cell_type": "markdown",
   "metadata": {},
   "source": [
    "## Linear Regression Model"
   ]
  },
  {
   "cell_type": "code",
   "execution_count": 819,
   "metadata": {},
   "outputs": [],
   "source": [
    "# Defining the target and features columns\n",
    "target_column = 'Global_Sales'\n",
    "feature_columns = games.columns.drop(target_column)"
   ]
  },
  {
   "cell_type": "code",
   "execution_count": 820,
   "metadata": {},
   "outputs": [],
   "source": [
    "# Splitting the data into features and target\n",
    "X = games[feature_columns]\n",
    "y = games[target_column]"
   ]
  },
  {
   "cell_type": "code",
   "execution_count": 821,
   "metadata": {},
   "outputs": [],
   "source": [
    "# Splitting the data into training and testing sets\n",
    "X_train, X_test, y_train, y_test = train_test_split(X, y, test_size=0.2, random_state=42)"
   ]
  },
  {
   "cell_type": "code",
   "execution_count": 823,
   "metadata": {},
   "outputs": [],
   "source": [
    "# Create a StandardScaler instances\n",
    "scaler = StandardScaler()\n",
    "\n",
    "# Fit the StandardScaler\n",
    "X_scaler = scaler.fit(X_train)\n",
    "\n",
    "# Scale the data\n",
    "X_train_scaled = X_scaler.transform(X_train)\n",
    "X_test_scaled = X_scaler.transform(X_test)"
   ]
  },
  {
   "cell_type": "code",
   "execution_count": 824,
   "metadata": {},
   "outputs": [],
   "source": [
    "# Creating the linear regression model\n",
    "model_lr = LinearRegression()"
   ]
  },
  {
   "cell_type": "code",
   "execution_count": 825,
   "metadata": {},
   "outputs": [
    {
     "data": {
      "text/html": [
       "<style>#sk-container-id-28 {color: black;background-color: white;}#sk-container-id-28 pre{padding: 0;}#sk-container-id-28 div.sk-toggleable {background-color: white;}#sk-container-id-28 label.sk-toggleable__label {cursor: pointer;display: block;width: 100%;margin-bottom: 0;padding: 0.3em;box-sizing: border-box;text-align: center;}#sk-container-id-28 label.sk-toggleable__label-arrow:before {content: \"▸\";float: left;margin-right: 0.25em;color: #696969;}#sk-container-id-28 label.sk-toggleable__label-arrow:hover:before {color: black;}#sk-container-id-28 div.sk-estimator:hover label.sk-toggleable__label-arrow:before {color: black;}#sk-container-id-28 div.sk-toggleable__content {max-height: 0;max-width: 0;overflow: hidden;text-align: left;background-color: #f0f8ff;}#sk-container-id-28 div.sk-toggleable__content pre {margin: 0.2em;color: black;border-radius: 0.25em;background-color: #f0f8ff;}#sk-container-id-28 input.sk-toggleable__control:checked~div.sk-toggleable__content {max-height: 200px;max-width: 100%;overflow: auto;}#sk-container-id-28 input.sk-toggleable__control:checked~label.sk-toggleable__label-arrow:before {content: \"▾\";}#sk-container-id-28 div.sk-estimator input.sk-toggleable__control:checked~label.sk-toggleable__label {background-color: #d4ebff;}#sk-container-id-28 div.sk-label input.sk-toggleable__control:checked~label.sk-toggleable__label {background-color: #d4ebff;}#sk-container-id-28 input.sk-hidden--visually {border: 0;clip: rect(1px 1px 1px 1px);clip: rect(1px, 1px, 1px, 1px);height: 1px;margin: -1px;overflow: hidden;padding: 0;position: absolute;width: 1px;}#sk-container-id-28 div.sk-estimator {font-family: monospace;background-color: #f0f8ff;border: 1px dotted black;border-radius: 0.25em;box-sizing: border-box;margin-bottom: 0.5em;}#sk-container-id-28 div.sk-estimator:hover {background-color: #d4ebff;}#sk-container-id-28 div.sk-parallel-item::after {content: \"\";width: 100%;border-bottom: 1px solid gray;flex-grow: 1;}#sk-container-id-28 div.sk-label:hover label.sk-toggleable__label {background-color: #d4ebff;}#sk-container-id-28 div.sk-serial::before {content: \"\";position: absolute;border-left: 1px solid gray;box-sizing: border-box;top: 0;bottom: 0;left: 50%;z-index: 0;}#sk-container-id-28 div.sk-serial {display: flex;flex-direction: column;align-items: center;background-color: white;padding-right: 0.2em;padding-left: 0.2em;position: relative;}#sk-container-id-28 div.sk-item {position: relative;z-index: 1;}#sk-container-id-28 div.sk-parallel {display: flex;align-items: stretch;justify-content: center;background-color: white;position: relative;}#sk-container-id-28 div.sk-item::before, #sk-container-id-28 div.sk-parallel-item::before {content: \"\";position: absolute;border-left: 1px solid gray;box-sizing: border-box;top: 0;bottom: 0;left: 50%;z-index: -1;}#sk-container-id-28 div.sk-parallel-item {display: flex;flex-direction: column;z-index: 1;position: relative;background-color: white;}#sk-container-id-28 div.sk-parallel-item:first-child::after {align-self: flex-end;width: 50%;}#sk-container-id-28 div.sk-parallel-item:last-child::after {align-self: flex-start;width: 50%;}#sk-container-id-28 div.sk-parallel-item:only-child::after {width: 0;}#sk-container-id-28 div.sk-dashed-wrapped {border: 1px dashed gray;margin: 0 0.4em 0.5em 0.4em;box-sizing: border-box;padding-bottom: 0.4em;background-color: white;}#sk-container-id-28 div.sk-label label {font-family: monospace;font-weight: bold;display: inline-block;line-height: 1.2em;}#sk-container-id-28 div.sk-label-container {text-align: center;}#sk-container-id-28 div.sk-container {/* jupyter's `normalize.less` sets `[hidden] { display: none; }` but bootstrap.min.css set `[hidden] { display: none !important; }` so we also need the `!important` here to be able to override the default hidden behavior on the sphinx rendered scikit-learn.org. See: https://github.com/scikit-learn/scikit-learn/issues/21755 */display: inline-block !important;position: relative;}#sk-container-id-28 div.sk-text-repr-fallback {display: none;}</style><div id=\"sk-container-id-28\" class=\"sk-top-container\"><div class=\"sk-text-repr-fallback\"><pre>LinearRegression()</pre><b>In a Jupyter environment, please rerun this cell to show the HTML representation or trust the notebook. <br />On GitHub, the HTML representation is unable to render, please try loading this page with nbviewer.org.</b></div><div class=\"sk-container\" hidden><div class=\"sk-item\"><div class=\"sk-estimator sk-toggleable\"><input class=\"sk-toggleable__control sk-hidden--visually\" id=\"sk-estimator-id-28\" type=\"checkbox\" checked><label for=\"sk-estimator-id-28\" class=\"sk-toggleable__label sk-toggleable__label-arrow\">LinearRegression</label><div class=\"sk-toggleable__content\"><pre>LinearRegression()</pre></div></div></div></div></div>"
      ],
      "text/plain": [
       "LinearRegression()"
      ]
     },
     "execution_count": 825,
     "metadata": {},
     "output_type": "execute_result"
    }
   ],
   "source": [
    "# Training the model\n",
    "model_lr.fit(X_train_scaled, y_train)"
   ]
  },
  {
   "cell_type": "code",
   "execution_count": 826,
   "metadata": {},
   "outputs": [],
   "source": [
    "# Making predictions on the test set\n",
    "y_pred = model_lr.predict(X_test_scaled)"
   ]
  },
  {
   "cell_type": "code",
   "execution_count": 827,
   "metadata": {},
   "outputs": [
    {
     "name": "stdout",
     "output_type": "stream",
     "text": [
      "Mean Squared Error: 1.5896156881958647\n",
      "R-squared: 0.2534117261931119\n"
     ]
    }
   ],
   "source": [
    "# Evaluating the model and printing the reuslts\n",
    "mse = mean_squared_error(y_test, y_pred)\n",
    "r2 = r2_score(y_test, y_pred)\n",
    "print(f\"Mean Squared Error: {mse}\")\n",
    "print(f\"R-squared: {r2}\")"
   ]
  },
  {
   "cell_type": "markdown",
   "metadata": {},
   "source": [
    "## Decision Tree Model"
   ]
  },
  {
   "cell_type": "code",
   "execution_count": 829,
   "metadata": {},
   "outputs": [],
   "source": [
    "# Creating the decision tree model\n",
    "model_dt = DecisionTreeRegressor(random_state=42)"
   ]
  },
  {
   "cell_type": "code",
   "execution_count": 830,
   "metadata": {},
   "outputs": [
    {
     "data": {
      "text/html": [
       "<style>#sk-container-id-29 {color: black;background-color: white;}#sk-container-id-29 pre{padding: 0;}#sk-container-id-29 div.sk-toggleable {background-color: white;}#sk-container-id-29 label.sk-toggleable__label {cursor: pointer;display: block;width: 100%;margin-bottom: 0;padding: 0.3em;box-sizing: border-box;text-align: center;}#sk-container-id-29 label.sk-toggleable__label-arrow:before {content: \"▸\";float: left;margin-right: 0.25em;color: #696969;}#sk-container-id-29 label.sk-toggleable__label-arrow:hover:before {color: black;}#sk-container-id-29 div.sk-estimator:hover label.sk-toggleable__label-arrow:before {color: black;}#sk-container-id-29 div.sk-toggleable__content {max-height: 0;max-width: 0;overflow: hidden;text-align: left;background-color: #f0f8ff;}#sk-container-id-29 div.sk-toggleable__content pre {margin: 0.2em;color: black;border-radius: 0.25em;background-color: #f0f8ff;}#sk-container-id-29 input.sk-toggleable__control:checked~div.sk-toggleable__content {max-height: 200px;max-width: 100%;overflow: auto;}#sk-container-id-29 input.sk-toggleable__control:checked~label.sk-toggleable__label-arrow:before {content: \"▾\";}#sk-container-id-29 div.sk-estimator input.sk-toggleable__control:checked~label.sk-toggleable__label {background-color: #d4ebff;}#sk-container-id-29 div.sk-label input.sk-toggleable__control:checked~label.sk-toggleable__label {background-color: #d4ebff;}#sk-container-id-29 input.sk-hidden--visually {border: 0;clip: rect(1px 1px 1px 1px);clip: rect(1px, 1px, 1px, 1px);height: 1px;margin: -1px;overflow: hidden;padding: 0;position: absolute;width: 1px;}#sk-container-id-29 div.sk-estimator {font-family: monospace;background-color: #f0f8ff;border: 1px dotted black;border-radius: 0.25em;box-sizing: border-box;margin-bottom: 0.5em;}#sk-container-id-29 div.sk-estimator:hover {background-color: #d4ebff;}#sk-container-id-29 div.sk-parallel-item::after {content: \"\";width: 100%;border-bottom: 1px solid gray;flex-grow: 1;}#sk-container-id-29 div.sk-label:hover label.sk-toggleable__label {background-color: #d4ebff;}#sk-container-id-29 div.sk-serial::before {content: \"\";position: absolute;border-left: 1px solid gray;box-sizing: border-box;top: 0;bottom: 0;left: 50%;z-index: 0;}#sk-container-id-29 div.sk-serial {display: flex;flex-direction: column;align-items: center;background-color: white;padding-right: 0.2em;padding-left: 0.2em;position: relative;}#sk-container-id-29 div.sk-item {position: relative;z-index: 1;}#sk-container-id-29 div.sk-parallel {display: flex;align-items: stretch;justify-content: center;background-color: white;position: relative;}#sk-container-id-29 div.sk-item::before, #sk-container-id-29 div.sk-parallel-item::before {content: \"\";position: absolute;border-left: 1px solid gray;box-sizing: border-box;top: 0;bottom: 0;left: 50%;z-index: -1;}#sk-container-id-29 div.sk-parallel-item {display: flex;flex-direction: column;z-index: 1;position: relative;background-color: white;}#sk-container-id-29 div.sk-parallel-item:first-child::after {align-self: flex-end;width: 50%;}#sk-container-id-29 div.sk-parallel-item:last-child::after {align-self: flex-start;width: 50%;}#sk-container-id-29 div.sk-parallel-item:only-child::after {width: 0;}#sk-container-id-29 div.sk-dashed-wrapped {border: 1px dashed gray;margin: 0 0.4em 0.5em 0.4em;box-sizing: border-box;padding-bottom: 0.4em;background-color: white;}#sk-container-id-29 div.sk-label label {font-family: monospace;font-weight: bold;display: inline-block;line-height: 1.2em;}#sk-container-id-29 div.sk-label-container {text-align: center;}#sk-container-id-29 div.sk-container {/* jupyter's `normalize.less` sets `[hidden] { display: none; }` but bootstrap.min.css set `[hidden] { display: none !important; }` so we also need the `!important` here to be able to override the default hidden behavior on the sphinx rendered scikit-learn.org. See: https://github.com/scikit-learn/scikit-learn/issues/21755 */display: inline-block !important;position: relative;}#sk-container-id-29 div.sk-text-repr-fallback {display: none;}</style><div id=\"sk-container-id-29\" class=\"sk-top-container\"><div class=\"sk-text-repr-fallback\"><pre>DecisionTreeRegressor(random_state=42)</pre><b>In a Jupyter environment, please rerun this cell to show the HTML representation or trust the notebook. <br />On GitHub, the HTML representation is unable to render, please try loading this page with nbviewer.org.</b></div><div class=\"sk-container\" hidden><div class=\"sk-item\"><div class=\"sk-estimator sk-toggleable\"><input class=\"sk-toggleable__control sk-hidden--visually\" id=\"sk-estimator-id-29\" type=\"checkbox\" checked><label for=\"sk-estimator-id-29\" class=\"sk-toggleable__label sk-toggleable__label-arrow\">DecisionTreeRegressor</label><div class=\"sk-toggleable__content\"><pre>DecisionTreeRegressor(random_state=42)</pre></div></div></div></div></div>"
      ],
      "text/plain": [
       "DecisionTreeRegressor(random_state=42)"
      ]
     },
     "execution_count": 830,
     "metadata": {},
     "output_type": "execute_result"
    }
   ],
   "source": [
    "# Training the model\n",
    "model_dt.fit(X_train_scaled, y_train)"
   ]
  },
  {
   "cell_type": "code",
   "execution_count": 831,
   "metadata": {},
   "outputs": [],
   "source": [
    "# Making predictions on the test set\n",
    "y_pred = model_dt.predict(X_test_scaled)"
   ]
  },
  {
   "cell_type": "code",
   "execution_count": 832,
   "metadata": {},
   "outputs": [
    {
     "name": "stdout",
     "output_type": "stream",
     "text": [
      "Mean Squared Error: 2.346470871647009\n",
      "R-squared: -0.10205734040618641\n"
     ]
    }
   ],
   "source": [
    "# Evaluating the model\n",
    "mse = mean_squared_error(y_test, y_pred)\n",
    "r2 = r2_score(y_test, y_pred)\n",
    "print(f\"Mean Squared Error: {mse}\")\n",
    "print(f\"R-squared: {r2}\")"
   ]
  },
  {
   "cell_type": "markdown",
   "metadata": {},
   "source": [
    "## Neural Network Model"
   ]
  },
  {
   "cell_type": "code",
   "execution_count": 835,
   "metadata": {},
   "outputs": [],
   "source": [
    "# Create a Sequential model with hyperparameter options\n",
    "def create_model(hp):\n",
    "    nn_model = tf.keras.models.Sequential()\n",
    "\n",
    "    # Choice of activation function to use in hidden layers\n",
    "    activation = hp.Choice('activation',['relu','tanh','sigmoid'])\n",
    "\n",
    "    # Choice of number of neurons in first layer\n",
    "    nn_model.add(tf.keras.layers.InputLayer(shape=(7,)))\n",
    "    nn_model.add(tf.keras.layers.Dense(units=hp.Int('first_units',\n",
    "        min_value=1,\n",
    "        max_value=20,\n",
    "        step=2), activation=activation))\n",
    "\n",
    "    # Choice of hidden layers and neurons in hidden layers\n",
    "    for i in range(hp.Int('num_layers', 1, 10)):\n",
    "        nn_model.add(tf.keras.layers.Dense(units=hp.Int('units_' + str(i),\n",
    "            min_value=1,\n",
    "            max_value=14,\n",
    "            step=2),\n",
    "            activation=activation))\n",
    "\n",
    "    nn_model.add(tf.keras.layers.Dense(units=1, activation=\"sigmoid\"))\n",
    "\n",
    "    # Compile the model\n",
    "    nn_model.compile(loss=\"mse\", optimizer='adam', metrics=[\"mse\"])\n",
    "\n",
    "    return nn_model"
   ]
  },
  {
   "cell_type": "code",
   "execution_count": 836,
   "metadata": {},
   "outputs": [],
   "source": [
    "# Import the kerastuner library\n",
    "import keras_tuner as kt\n",
    "\n",
    "tuner = kt.Hyperband(\n",
    "    create_model,\n",
    "    objective=\"mse\",\n",
    "    max_epochs=30,\n",
    "    hyperband_iterations=2)"
   ]
  },
  {
   "cell_type": "code",
   "execution_count": 837,
   "metadata": {},
   "outputs": [
    {
     "name": "stdout",
     "output_type": "stream",
     "text": [
      "Trial 180 Complete [00h 01m 13s]\n",
      "mse: 5.185958385467529\n",
      "\n",
      "Best mse So Far: 5.182490348815918\n",
      "Total elapsed time: 01h 11m 18s\n"
     ]
    }
   ],
   "source": [
    "# Run the kerastuner search for best hyperparameters\n",
    "tuner.search(X_train_scaled,y_train,epochs=30,validation_data=(X_test_scaled,y_test))"
   ]
  },
  {
   "cell_type": "code",
   "execution_count": 838,
   "metadata": {},
   "outputs": [
    {
     "name": "stderr",
     "output_type": "stream",
     "text": [
      "c:\\Users\\ulyan\\anaconda3\\Lib\\site-packages\\keras_tuner\\src\\tuners\\hyperband.py:435: UserWarning: Model 'sequential' had a build config, but the model cannot be built automatically in `build_from_config(config)`. You should implement `def build_from_config(self, config)`, and you might also want to implement the method  that generates the config at saving time, `def get_build_config(self)`. The method `build_from_config()` is meant to create the state of the model (i.e. its variables) upon deserialization.\n",
      "  model.build_from_config(\n",
      "c:\\Users\\ulyan\\anaconda3\\Lib\\site-packages\\keras\\src\\saving\\saving_lib.py:576: UserWarning: Skipping variable loading for optimizer 'adam', because it has 2 variables whereas the saved optimizer has 18 variables. \n",
      "  saveable.load_own_variables(weights_store.get(inner_path))\n"
     ]
    }
   ],
   "source": [
    "# Getting the best model\n",
    "best_model = tuner.get_best_models(1)[0]"
   ]
  },
  {
   "cell_type": "code",
   "execution_count": 839,
   "metadata": {},
   "outputs": [
    {
     "name": "stdout",
     "output_type": "stream",
     "text": [
      "104/104 - 1s - 11ms/step - loss: 5.0822 - mse: 5.0822\n",
      "Mean Squared Error: [5.082244396209717, 5.082244396209717]\n"
     ]
    }
   ],
   "source": [
    "# Evaluate the model on the test set\n",
    "model_mse = best_model.evaluate(X_test_scaled, y_test, verbose=2)\n",
    "\n",
    "# Print the MSE\n",
    "print(f\"Mean Squared Error: {model_mse}\")"
   ]
  }
 ],
 "metadata": {
  "kernelspec": {
   "display_name": "base",
   "language": "python",
   "name": "python3"
  },
  "language_info": {
   "codemirror_mode": {
    "name": "ipython",
    "version": 3
   },
   "file_extension": ".py",
   "mimetype": "text/x-python",
   "name": "python",
   "nbconvert_exporter": "python",
   "pygments_lexer": "ipython3",
   "version": "3.11.7"
  }
 },
 "nbformat": 4,
 "nbformat_minor": 2
}
